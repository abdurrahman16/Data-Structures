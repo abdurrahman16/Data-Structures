{
  "nbformat": 4,
  "nbformat_minor": 0,
  "metadata": {
    "colab": {
      "provenance": [],
      "authorship_tag": "ABX9TyOnA2xKUYMrCXylb+VJ16hv",
      "include_colab_link": true
    },
    "kernelspec": {
      "name": "python3",
      "display_name": "Python 3"
    },
    "language_info": {
      "name": "python"
    }
  },
  "cells": [
    {
      "cell_type": "markdown",
      "metadata": {
        "id": "view-in-github",
        "colab_type": "text"
      },
      "source": [
        "<a href=\"https://colab.research.google.com/github/abdurrahman16/Data-Structures/blob/main/Tuples_Methods.ipynb\" target=\"_parent\"><img src=\"https://colab.research.google.com/assets/colab-badge.svg\" alt=\"Open In Colab\"/></a>"
      ]
    },
    {
      "cell_type": "code",
      "source": [
        "#tuples operations\n",
        "mytup1=(2005,2003,32005,2005)\n",
        "mytup2=('A','B')\n",
        "print(mytup1)\n",
        "print(mytup1[1])\n",
        "print(mytup1+mytup2)\n",
        "mytup1.count(2005)\n",
        "print(mytup1.index(2005))\n"
      ],
      "metadata": {
        "colab": {
          "base_uri": "https://localhost:8080/"
        },
        "id": "igofLZ8M11bA",
        "outputId": "29c02d9c-9a63-40db-8359-51beb9b49044"
      },
      "execution_count": 23,
      "outputs": [
        {
          "output_type": "stream",
          "name": "stdout",
          "text": [
            "(2005, 2003, 32005, 2005)\n",
            "2003\n",
            "(2005, 2003, 32005, 2005, 'A', 'B')\n",
            "0\n"
          ]
        }
      ]
    }
  ]
}