{
  "nbformat": 4,
  "nbformat_minor": 0,
  "metadata": {
    "colab": {
      "provenance": [],
      "authorship_tag": "ABX9TyPqMGl0er/6owwgc2BgAiau",
      "include_colab_link": true
    },
    "kernelspec": {
      "name": "python3",
      "display_name": "Python 3"
    },
    "language_info": {
      "name": "python"
    }
  },
  "cells": [
    {
      "cell_type": "markdown",
      "metadata": {
        "id": "view-in-github",
        "colab_type": "text"
      },
      "source": [
        "<a href=\"https://colab.research.google.com/github/abdurrahman16/Data-Structures/blob/main/Student_Grade_Analysis.ipynb\" target=\"_parent\"><img src=\"https://colab.research.google.com/assets/colab-badge.svg\" alt=\"Open In Colab\"/></a>"
      ]
    },
    {
      "cell_type": "code",
      "source": [
        "#practical problem solving\n",
        "studentlist={\n",
        "       'Alice':\n",
        "        {\n",
        "         'Math': 80,\n",
        "         'Bangla': 75,\n",
        "         'Eng':86\n",
        "     },\n",
        "       'Bob':\n",
        "       {\n",
        "           'Math': 90,\n",
        "         'Bangla': 95,\n",
        "         'Eng':66\n",
        "       },\n",
        "       'Charlie':\n",
        "       {\n",
        "           'Math': 70,\n",
        "         'Bangla': 87,\n",
        "         'Eng':76\n",
        "       }\n",
        "}\n",
        "print(\"Exercise 1: Student Grade Analysis\")\n",
        "print(\"=\" * 40)\n",
        "\n",
        "bestperformer=[]\n",
        "for student,grades in studentlist.items():\n",
        "  if any(grade>85 for grade in grades.values()):\n",
        "    bestperformer.append(student)\n",
        "print(bestperformer)\n",
        "print(\"=\" * 40)\n",
        "avgGrade=[]\n",
        "for student,grades in studentlist.items():\n",
        "  avg=round(sum(grades.values())/len(grades))\n",
        "  avgGrade.append((student,avg))\n",
        "print(avgGrade)\n",
        "print(\"=\" * 40)\n",
        "\n",
        "subjectset=set()\n",
        "for subjects in studentlist.values():\n",
        "  subjectset.update(subjects.keys())\n",
        "\n",
        "print(subjectset)\n",
        "\n",
        "\n"
      ],
      "metadata": {
        "colab": {
          "base_uri": "https://localhost:8080/"
        },
        "id": "igofLZ8M11bA",
        "outputId": "29ccb212-4493-4b69-819e-c73b0e4af3e4"
      },
      "execution_count": 46,
      "outputs": [
        {
          "output_type": "stream",
          "name": "stdout",
          "text": [
            "Exercise 1: Student Grade Analysis\n",
            "========================================\n",
            "['Alice', 'Bob', 'Charlie']\n",
            "========================================\n",
            "[('Alice', 80), ('Bob', 84), ('Charlie', 78)]\n",
            "========================================\n",
            "{'Bangla', 'Eng', 'Math'}\n"
          ]
        }
      ]
    }
  ]
}