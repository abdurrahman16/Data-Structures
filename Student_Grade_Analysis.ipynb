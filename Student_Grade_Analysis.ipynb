{
  "nbformat": 4,
  "nbformat_minor": 0,
  "metadata": {
    "colab": {
      "provenance": [],
      "authorship_tag": "ABX9TyPhKHqgkz/Rfj2UE+00eIZ7",
      "include_colab_link": true
    },
    "kernelspec": {
      "name": "python3",
      "display_name": "Python 3"
    },
    "language_info": {
      "name": "python"
    }
  },
  "cells": [
    {
      "cell_type": "markdown",
      "metadata": {
        "id": "view-in-github",
        "colab_type": "text"
      },
      "source": [
        "<a href=\"https://colab.research.google.com/github/abdurrahman16/Data-Structures/blob/main/Student_Grade_Analysis.ipynb\" target=\"_parent\"><img src=\"https://colab.research.google.com/assets/colab-badge.svg\" alt=\"Open In Colab\"/></a>"
      ]
    },
    {
      "cell_type": "code",
      "source": [
        "#facebook post data analysis\n",
        "post_likes = {\n",
        "    \"post_1\": {\"alice\", \"bob\", \"charlie\", \"diana\", \"eve\"},\n",
        "    \"post_2\": {\"bob\", \"charlie\", \"frank\", \"grace\"},\n",
        "    \"post_3\": {\"alice\", \"diana\", \"frank\", \"henry\", \"iris\"},\n",
        "    \"post_4\": {\"charlie\", \"eve\", \"frank\", \"grace\", \"henry\"}\n",
        "}\n",
        "\n",
        "unique_users=set()\n",
        "for i in post_likes.values():\n",
        "    unique_users.update(i)\n",
        "print('Unique Users: ', unique_users)\n",
        "\n",
        "print('='*40)\n",
        "\n",
        "post1=set(post_likes['post_1'])\n",
        "post2=set(post_likes['post_2'])\n",
        "post3=set(post_likes['post_3'])\n",
        "post4=set(post_likes['post_4'])\n",
        "\n",
        "uniquevistitor= post1 | post2 | post3 | post4\n",
        "print('Unique Visitors: ', uniquevistitor)\n",
        "print('='*40)\n",
        "\n",
        "mycount=list(uniquevistitor)\n",
        "print('Count total unique users across all posts: ', len(mycount))\n",
        "print('='*40)\n",
        "\n",
        "popularlist=[]\n",
        "\n",
        "for post,user in post_likes.items():\n",
        "  a=len(post_likes['post_1'])\n",
        "  b=len(post_likes['post_2'])\n",
        "  c=len(post_likes['post_3'])\n",
        "  d=len(post_likes['post_4'])\n",
        "\n",
        "\n",
        "\n",
        "topvalue= max(popularlist)\n",
        "print(topvalue)\n",
        "\n",
        "\n",
        "\n",
        "\n",
        "\n"
      ],
      "metadata": {
        "colab": {
          "base_uri": "https://localhost:8080/"
        },
        "id": "32HOPu73Pe0a",
        "outputId": "c0709cf2-78c4-4c56-f605-8518ee3cee84"
      },
      "execution_count": 76,
      "outputs": [
        {
          "output_type": "stream",
          "name": "stdout",
          "text": [
            "Unique Users:  {'frank', 'charlie', 'eve', 'henry', 'diana', 'alice', 'iris', 'bob', 'grace'}\n",
            "========================================\n",
            "Unique Visitors:  {'frank', 'charlie', 'eve', 'henry', 'diana', 'alice', 'iris', 'bob', 'grace'}\n",
            "========================================\n",
            "Count total unique users across all posts:  9\n",
            "========================================\n",
            "5\n"
          ]
        }
      ]
    },
    {
      "cell_type": "code",
      "source": [],
      "metadata": {
        "id": "IXH3yDldQE9O"
      },
      "execution_count": null,
      "outputs": []
    }
  ]
}