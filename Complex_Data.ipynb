{
  "nbformat": 4,
  "nbformat_minor": 0,
  "metadata": {
    "colab": {
      "provenance": [],
      "authorship_tag": "ABX9TyPdyLYu53bVTRqZzexPkWPr",
      "include_colab_link": true
    },
    "kernelspec": {
      "name": "python3",
      "display_name": "Python 3"
    },
    "language_info": {
      "name": "python"
    }
  },
  "cells": [
    {
      "cell_type": "markdown",
      "metadata": {
        "id": "view-in-github",
        "colab_type": "text"
      },
      "source": [
        "<a href=\"https://colab.research.google.com/github/abdurrahman16/Data-Structures/blob/main/Complex_Data.ipynb\" target=\"_parent\"><img src=\"https://colab.research.google.com/assets/colab-badge.svg\" alt=\"Open In Colab\"/></a>"
      ]
    },
    {
      "cell_type": "code",
      "source": [
        "mylist=[\n",
        "    ['A','B','C','D','E'],\n",
        "    ['A','B','C','D','E'],\n",
        "    ['A','B','C','D','E'],\n",
        "    ['A','B','C','D','E'],\n",
        "    ['A','B','C','D','E']\n",
        "]\n",
        "\n",
        "matrix=[\n",
        "    [1,2,3],\n",
        "    [4,5,6],\n",
        "    [7,8,9]\n",
        "]\n",
        "for i in matrix:\n",
        "  print(i)\n",
        "\n",
        "\n",
        "  # Complex Nested Dictionaries: Real-world example\n",
        "student_database = {\n",
        "    \"Alice\": {\n",
        "        \"age\": 20,\n",
        "        \"grades\": {\"Math\": 85, \"Physics\": 92, \"Chemistry\": 78},\n",
        "        \"contact\": {\n",
        "            \"email\": \"alice@email.com\",\n",
        "            \"phone\": \"123-456-7890\"\n",
        "        },\n",
        "        \"courses\": [\"Math\", \"Physics\", \"Chemistry\"]\n",
        "    },\n",
        "    \"Bob\": {\n",
        "        \"age\": 21,\n",
        "        \"grades\": {\"Math\": 92, \"Physics\": 88, \"Chemistry\": 85},\n",
        "        \"contact\": {\n",
        "            \"email\": \"bob@email.com\",\n",
        "            \"phone\": \"987-654-3210\"\n",
        "        },\n",
        "        \"courses\": [\"Math\", \"Physics\", \"Chemistry\", \"Biology\"]\n",
        "    }\n",
        "}\n",
        "\n",
        "print(f\"Your Result is: {student_database['Alice']['contact']['email']}\")\n",
        "\n",
        "student_database['Alice']['contact']['email']=\"Babu@yahoo.com\"\n",
        "print(f\"Your Update: {student_database['Alice']['contact']['email']}\")\n",
        "\n",
        "\n"
      ],
      "metadata": {
        "colab": {
          "base_uri": "https://localhost:8080/"
        },
        "id": "igofLZ8M11bA",
        "outputId": "13351b69-2c17-4510-e3ba-961caa5bdae3"
      },
      "execution_count": 17,
      "outputs": [
        {
          "output_type": "stream",
          "name": "stdout",
          "text": [
            "[1, 2, 3]\n",
            "[4, 5, 6]\n",
            "[7, 8, 9]\n",
            "Your Result is: alice@email.com\n",
            "Your Update: Babu@yahoo.com\n"
          ]
        }
      ]
    }
  ]
}